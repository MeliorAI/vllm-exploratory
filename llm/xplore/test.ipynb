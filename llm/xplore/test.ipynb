{
 "cells": [
  {
   "cell_type": "markdown",
   "metadata": {},
   "source": [
    "The purpose of this notebook is to explore the use of open source models such as \"facebook/opt-125m\" and \"neuralmagic/Llama-2-7b-chat-quantized.w8a8\", these models are relatively small in size and can be used from my g4dn.2xlarge instance.\n",
    "In addition I compare the output from the open source model to openai.\n",
    "The opensource model is loaded with vllm serving"
   ]
  },
  {
   "cell_type": "code",
   "execution_count": 1,
   "metadata": {},
   "outputs": [],
   "source": [
    "!pip install transformers torch -q\n",
    "!pip install langchain -q\n",
    "!pip install -U langchain-community -q\n",
    "!pip install python-dotenv openai -q\n",
    "!pip3 install pysqlite3-binary -q\n",
    "!pip install -U sentence-transformers -q"
   ]
  },
  {
   "cell_type": "code",
   "execution_count": 2,
   "metadata": {},
   "outputs": [],
   "source": [
    "import boto3\n",
    "import os\n",
    "def download_file_from_s3(bucket_name, s3_file_key):\n",
    "    # download files to local environment\n",
    "    # Create an S3 client\n",
    "    s3 = boto3.client('s3')\n",
    "    local_file_path = s3_file_key.split('/')[-1]\n",
    "    # Download the file from S3\n",
    "    s3.download_file(bucket_name, s3_file_key, local_file_path)\n",
    "    print(f\"File {s3_file_key} downloaded from {bucket_name} to {local_file_path}\")\n",
    "\n",
    "def delete_file(file_path):\n",
    "    os.remove(file_path)"
   ]
  },
  {
   "cell_type": "code",
   "execution_count": 3,
   "metadata": {},
   "outputs": [],
   "source": [
    "import re\n",
    "import string\n",
    "\n",
    "_RE_COMBINE_WHITESPACE = re.compile(r\"[ ]+\", re.ASCII)\n",
    "_RE_SHORT_LINES = re.compile(\"^.{1,3}\\n\", re.MULTILINE)\n",
    "_RE_MULTILINE_BREAKS = re.compile(\"\\n+\", re.MULTILINE)\n",
    "_RE_PAGE_CHAR = \"\\x0c\"\n",
    "_RE_LATIN_WHITESPACE_CHAR = re.compile(\"\\xa0\", re.ASCII)\n",
    "\n",
    "\n",
    "# @markdown  - **clean_text** - clean text spaces,non-printable and line breaks\n",
    "def clean_text(text):\n",
    "    \"\"\"Clean text from several white-space and line-breaks\"\"\"\n",
    "    # remove several line breaks\n",
    "    text = _RE_LATIN_WHITESPACE_CHAR.sub(\" \", text)\n",
    "    # remove several white spaces\n",
    "    text = _RE_COMBINE_WHITESPACE.sub(\" \", text).strip()\n",
    "    # remove very short lines\n",
    "    text = _RE_SHORT_LINES.sub(\"\\n\", text)\n",
    "    # remove several line breaks\n",
    "    text = _RE_MULTILINE_BREAKS.sub(\"\\n\", text)\n",
    "    # remove unknown characters or non printable\n",
    "    text = \"\".join([x for x in text if x in string.printable])\n",
    "\n",
    "    return text.strip()"
   ]
  },
  {
   "cell_type": "code",
   "execution_count": 4,
   "metadata": {},
   "outputs": [
    {
     "name": "stderr",
     "output_type": "stream",
     "text": [
      "/home/ubuntu/yulia/vllm-exploratory/.venv/lib/python3.10/site-packages/sentence_transformers/cross_encoder/CrossEncoder.py:13: TqdmWarning: IProgress not found. Please update jupyter and ipywidgets. See https://ipywidgets.readthedocs.io/en/stable/user_install.html\n",
      "  from tqdm.autonotebook import tqdm, trange\n"
     ]
    }
   ],
   "source": [
    "from langchain.embeddings.base import Embeddings\n",
    "from sentence_transformers import SentenceTransformer\n",
    "from typing import List\n",
    "\n",
    "class SentenceTransformerEmbeddings(Embeddings):\n",
    "    def __init__(self, model_name: str):\n",
    "        self.model = SentenceTransformer(model_name)\n",
    "\n",
    "    def embed_documents(self, documents: List[str]) -> List[List[float]]:\n",
    "        return [self.model.encode(d).tolist() for d in documents]\n",
    "\n",
    "    def embed_query(self, query: str) -> List[float]:\n",
    "        return self.model.encode([query])[0].tolist()"
   ]
  },
  {
   "cell_type": "markdown",
   "metadata": {},
   "source": [
    "## Load the dataset"
   ]
  },
  {
   "cell_type": "code",
   "execution_count": 5,
   "metadata": {},
   "outputs": [
    {
     "name": "stdout",
     "output_type": "stream",
     "text": [
      "File client-data/AAA/NY State Insurance/06-FRM-AR1/FRM-AR117-21-1230-2624_2024_163320/FRM-AR117-21-1230-2624_2024_163320.json downloaded from contract-intelligence-data to FRM-AR117-21-1230-2624_2024_163320.json\n",
      "File client-data/AAA/NY State Insurance/06-FRM-AR1/FRM-AR117-21-1230-2638_2024_162334/FRM-AR117-21-1230-2638_2024_162334.json downloaded from contract-intelligence-data to FRM-AR117-21-1230-2638_2024_162334.json\n",
      "File client-data/AAA/NY State Insurance/06-FRM-AR1/FRM-AR117-22-1252-6330_2024_16400/FRM-AR117-22-1252-6330_2024_16400.json downloaded from contract-intelligence-data to FRM-AR117-22-1252-6330_2024_16400.json\n",
      "File client-data/AAA/NY State Insurance/04-RPT-INIT/17-22-1250-8464/17-22-1250-8464.json downloaded from contract-intelligence-data to 17-22-1250-8464.json\n",
      "File client-data/dragados/ol-elevated-guideway-and-stations-dmca-redacted-version.json downloaded from contract-intelligence-data to ol-elevated-guideway-and-stations-dmca-redacted-version.json\n"
     ]
    }
   ],
   "source": [
    "#for the test data I will use some (parsed) files from here s3://contract-intelligence-data/client-data/AAA/NY State Insurance/06-FRM-AR1/ \n",
    "# these are files of good quality\n",
    "\n",
    "download_file_from_s3(\"contract-intelligence-data\", \"client-data/AAA/NY State Insurance/06-FRM-AR1/FRM-AR117-21-1230-2624_2024_163320/FRM-AR117-21-1230-2624_2024_163320.json\")\n",
    "download_file_from_s3(\"contract-intelligence-data\", \"client-data/AAA/NY State Insurance/06-FRM-AR1/FRM-AR117-21-1230-2638_2024_162334/FRM-AR117-21-1230-2638_2024_162334.json\")\n",
    "download_file_from_s3(\"contract-intelligence-data\", \"client-data/AAA/NY State Insurance/06-FRM-AR1/FRM-AR117-22-1252-6330_2024_16400/FRM-AR117-22-1252-6330_2024_16400.json\")\n",
    "\n",
    "download_file_from_s3(\"contract-intelligence-data\",\"client-data/AAA/NY State Insurance/04-RPT-INIT/17-22-1250-8464/17-22-1250-8464.json\")\n",
    "download_file_from_s3(\"contract-intelligence-data\",\"client-data/dragados/ol-elevated-guideway-and-stations-dmca-redacted-version.json\")"
   ]
  },
  {
   "cell_type": "code",
   "execution_count": 6,
   "metadata": {},
   "outputs": [],
   "source": [
    "import json\n",
    "import glob\n",
    "from tqdm import tqdm\n",
    "\n",
    "def read_files(docs_dir: str):\n",
    "    files = glob.glob(os.path.join(docs_dir,\"*.json\"), recursive=True)\n",
    "    print(f\"Total number of docs: {len(files)}\")\n",
    "    return files\n",
    "\n",
    "def compose_dataset(docs_dir: str):\n",
    "    files = read_files(docs_dir)\n",
    "    print(files)\n",
    "    # Read & Load the Dataset\n",
    "    dataset = []\n",
    "    for file in tqdm(files):\n",
    "        # data in json format after ocr\n",
    "        with open(file) as f:\n",
    "            pdoc = json.load(f)\n",
    "        dataset.append(pdoc)\n",
    "\n",
    "    return dataset"
   ]
  },
  {
   "cell_type": "code",
   "execution_count": 7,
   "metadata": {},
   "outputs": [
    {
     "name": "stdout",
     "output_type": "stream",
     "text": [
      "Total number of docs: 5\n",
      "['./ol-elevated-guideway-and-stations-dmca-redacted-version.json', './FRM-AR117-21-1230-2624_2024_163320.json', './17-22-1250-8464.json', './FRM-AR117-21-1230-2638_2024_162334.json', './FRM-AR117-22-1252-6330_2024_16400.json']\n"
     ]
    },
    {
     "name": "stderr",
     "output_type": "stream",
     "text": [
      "100%|██████████| 5/5 [00:00<00:00, 284.27it/s]\n"
     ]
    }
   ],
   "source": [
    "dataset = compose_dataset(\".\")  "
   ]
  },
  {
   "cell_type": "code",
   "execution_count": 8,
   "metadata": {},
   "outputs": [],
   "source": [
    "from langchain.text_splitter import CharacterTextSplitter, RecursiveCharacterTextSplitter\n",
    "from langchain.vectorstores import Chroma\n",
    "from langchain_community.embeddings import CohereEmbeddings, OpenAIEmbeddings\n",
    "from langchain.chains.retrieval_qa.base import RetrievalQA\n",
    "from langchain.schema import Document\n",
    "from langchain.chat_models import ChatOpenAI\n",
    "\n",
    "import pandas as pd"
   ]
  },
  {
   "cell_type": "code",
   "execution_count": 9,
   "metadata": {},
   "outputs": [],
   "source": [
    "# The rag part, based on the one in LINT api\n",
    "\n",
    "DEFAULT_CHUNK_SIZE = 3500  #1400 (had to reduce to fit into the facebook/opt-125m model)\n",
    "DEFAULT_CHUNK_OVERLAP = 500\n",
    "EMBEDDING_MODEL = \"text-embedding-ada-002\"#I will still use openai for embeddings\n",
    "# next step can also try and replace the embeddings for opensource ones\n",
    "LLM_MODEL_OPENAI = \"gpt-3.5-turbo\"\n",
    "vector_db_path = './chroma_db'\n",
    "\n",
    "SENTENCE_TRANSFORMER_MODEL = \"multi-qa-mpnet-base-cos-v1\""
   ]
  },
  {
   "cell_type": "code",
   "execution_count": 10,
   "metadata": {},
   "outputs": [],
   "source": [
    "from dotenv import load_dotenv, find_dotenv, dotenv_values\n",
    "import openai\n",
    "path_to_keys = 'keys.env'\n",
    "temp = dotenv_values(path_to_keys)\n",
    "openai_api_key = temp[\"OPENAI_API_KEY\"]"
   ]
  },
  {
   "cell_type": "markdown",
   "metadata": {},
   "source": [
    "### lets put the data to chroma db"
   ]
  },
  {
   "cell_type": "code",
   "execution_count": 11,
   "metadata": {},
   "outputs": [],
   "source": [
    "__import__('pysqlite3')\n",
    "import sys\n",
    "sys.modules['sqlite3'] = sys.modules.pop('pysqlite3')"
   ]
  },
  {
   "cell_type": "code",
   "execution_count": 12,
   "metadata": {},
   "outputs": [],
   "source": [
    "# !pip install hnswlib==0.7.0 -q\n",
    "# !pip install chroma-hnswlib==0.7.3 -q\n",
    "# !pip uninstall hnswlib chroma-hnswlib -y"
   ]
  },
  {
   "cell_type": "code",
   "execution_count": 13,
   "metadata": {},
   "outputs": [
    {
     "name": "stdout",
     "output_type": "stream",
     "text": [
      "Note: you may need to restart the kernel to use updated packages.\n"
     ]
    }
   ],
   "source": [
    "%pip install chromadb==0.5 tiktoken -q"
   ]
  },
  {
   "cell_type": "code",
   "execution_count": 14,
   "metadata": {},
   "outputs": [],
   "source": [
    "from langchain.vectorstores import Chroma\n",
    "\n",
    "def put_in_Chroma(doc_pages, doc_name, embedding_type=\"openai\"):\n",
    "    text_splitter = RecursiveCharacterTextSplitter(chunk_size=DEFAULT_CHUNK_SIZE, chunk_overlap=DEFAULT_CHUNK_OVERLAP)\n",
    "    doc = [\n",
    "                Document(page_content=clean_text(page), metadata={\"page\": i, \"doc_name\": doc_name})\n",
    "                for i, page in enumerate(doc_pages)\n",
    "            ]\n",
    "    chunks = text_splitter.split_documents(doc)\n",
    "    print('chunks: ', len(chunks))\n",
    "    # Retrieve embedding function from code env resources\n",
    "    \n",
    "    if embedding_type == \"openai\":\n",
    "        print(\"Using OpenAI embeddings\")\n",
    "        embeddings = OpenAIEmbeddings(model=EMBEDDING_MODEL, openai_api_key=openai_api_key)\n",
    "    else:\n",
    "        print(\"Using Sentence Transformer embeddings\")\n",
    "        embeddings = SentenceTransformerEmbeddings(SENTENCE_TRANSFORMER_MODEL)\n",
    "\n",
    "    # Index the vector database by embedding then inserting document chunks\n",
    "    db = Chroma.from_documents(chunks,\n",
    "                            embedding=embeddings,\n",
    "                            ids=[str(i) for i in range(len(chunks))],\n",
    "                            persist_directory=vector_db_path)\n",
    "\n",
    "    # Save vector database as persistent files in the output folder\n",
    "    return db"
   ]
  },
  {
   "cell_type": "code",
   "execution_count": 15,
   "metadata": {},
   "outputs": [],
   "source": [
    "# file_name = 'FRM-AR117-21-1230-2624_2024_163320'\n",
    "# file_name = 'FRM-AR117-21-1230-2638_2024_162334'\n",
    "file_name = 'FRM-AR117-22-1252-6330_2024_16400'\n",
    "file_name = '17-22-1250-8464'\n",
    "file_name = 'ol-elevated-guideway-and-stations-dmca-redacted-version'"
   ]
  },
  {
   "cell_type": "code",
   "execution_count": 16,
   "metadata": {},
   "outputs": [
    {
     "name": "stdout",
     "output_type": "stream",
     "text": [
      "pages:  1344\n"
     ]
    },
    {
     "name": "stdout",
     "output_type": "stream",
     "text": [
      "chunks:  1448\n",
      "Using Sentence Transformer embeddings\n"
     ]
    },
    {
     "name": "stderr",
     "output_type": "stream",
     "text": [
      "/home/ubuntu/yulia/vllm-exploratory/.venv/lib/python3.10/site-packages/transformers/tokenization_utils_base.py:1601: FutureWarning: `clean_up_tokenization_spaces` was not set. It will be set to `True` by default. This behavior will be depracted in transformers v4.45, and will be then set to `False` by default. For more details check this issue: https://github.com/huggingface/transformers/issues/31884\n",
      "  warnings.warn(\n"
     ]
    },
    {
     "name": "stdout",
     "output_type": "stream",
     "text": [
      "CPU times: user 1min 21s, sys: 3.51 s, total: 1min 24s\n",
      "Wall time: 58.7 s\n"
     ]
    }
   ],
   "source": [
    "%%time\n",
    "for i in dataset:\n",
    "    if i['name'] == file_name:\n",
    "        doc_pages = i['text']\n",
    "        break\n",
    "print('pages: ', len(doc_pages))\n",
    "db = put_in_Chroma(doc_pages, doc_name=file_name, embedding_type='transformer')"
   ]
  },
  {
   "cell_type": "code",
   "execution_count": 17,
   "metadata": {},
   "outputs": [],
   "source": [
    "def get_gpt_llm():\n",
    "    chat_params = {\n",
    "        \"model\": \"gpt-3.5-turbo\", # Bigger context window\n",
    "        \"openai_api_key\": openai_api_key,\n",
    "        \"temperature\": 0.000001, \n",
    "    }\n",
    "    llm = ChatOpenAI(**chat_params)\n",
    "    return llm\n",
    "\n",
    "def qa_retriever_openai(query, vector_db_path, file_id, k=4, embeddings_type=\"openai\"):\n",
    "    if embeddings_type == \"openai\":\n",
    "        print(\"Using OpenAI Embeddings\")\n",
    "        embeddings = OpenAIEmbeddings(model=EMBEDDING_MODEL, openai_api_key=openai_api_key)\n",
    "    else:\n",
    "        print(\"Using Sentence Transformer Embeddings\")\n",
    "        embeddings = SentenceTransformerEmbeddings(SENTENCE_TRANSFORMER_MODEL)\n",
    "    vectordb = Chroma(persist_directory=vector_db_path, embedding_function=embeddings)\n",
    "\n",
    "    retriever = vectordb.as_retriever(search_kwargs={\"k\": k, \"filter\": {\"doc_name\": file_id}})\n",
    "\n",
    "    qa = RetrievalQA.from_chain_type(llm=get_gpt_llm(), chain_type=\"stuff\", \n",
    "                                    retriever=retriever, return_source_documents=True)\n",
    "    res = qa({\"query\": query, \"k\": k})\n",
    "    return res, retriever"
   ]
  },
  {
   "cell_type": "code",
   "execution_count": 18,
   "metadata": {},
   "outputs": [
    {
     "name": "stdout",
     "output_type": "stream",
     "text": [
      "Using Sentence Transformer Embeddings\n"
     ]
    },
    {
     "name": "stderr",
     "output_type": "stream",
     "text": [
      "/tmp/ipykernel_511036/2578940020.py:17: LangChainDeprecationWarning: The class `Chroma` was deprecated in LangChain 0.2.9 and will be removed in 1.0. An updated version of the class exists in the :class:`~langchain-chroma package and should be used instead. To use it run `pip install -U :class:`~langchain-chroma` and import as `from :class:`~langchain_chroma import Chroma``.\n",
      "  vectordb = Chroma(persist_directory=vector_db_path, embedding_function=embeddings)\n",
      "/tmp/ipykernel_511036/2578940020.py:7: LangChainDeprecationWarning: The class `ChatOpenAI` was deprecated in LangChain 0.0.10 and will be removed in 1.0. An updated version of the class exists in the :class:`~langchain-openai package and should be used instead. To use it run `pip install -U :class:`~langchain-openai` and import as `from :class:`~langchain_openai import ChatOpenAI``.\n",
      "  llm = ChatOpenAI(**chat_params)\n",
      "/tmp/ipykernel_511036/2578940020.py:23: LangChainDeprecationWarning: The method `Chain.__call__` was deprecated in langchain 0.1.0 and will be removed in 1.0. Use :meth:`~invoke` instead.\n",
      "  res = qa({\"query\": query, \"k\": k})\n"
     ]
    }
   ],
   "source": [
    "question = \"Who are the parties?\"\n",
    "question = \"When is this agreement entered into?\"\n",
    "\n",
    "# question = \"What type of form is that?\"\n",
    "\n",
    "answer, retriever = \\\n",
    "    qa_retriever_openai(question, vector_db_path=\"/home/ubuntu/yulia/vllm-exploratory/llm/xplore/chroma_db\", \\\n",
    "    file_id=file_name, k=4, embeddings_type=\"transformer\")"
   ]
  },
  {
   "cell_type": "code",
   "execution_count": 19,
   "metadata": {},
   "outputs": [
    {
     "data": {
      "text/plain": [
       "{'query': 'When is this agreement entered into?',\n",
       " 'k': 4,\n",
       " 'result': 'The agreement is entered into on the DMCA Effective Date.',\n",
       " 'source_documents': [Document(metadata={'doc_name': 'ol-elevated-guideway-and-stations-dmca-redacted-version', 'page': 157}, page_content='In the event this Agreement is terminated under this Section 33.2, upon such termination, Project\\nCo shall be released from liability that may arise in relation to the use by Contracting Authority\\nor by a third party from and after the date of termination of this Agreement of the design\\nConfidential Page 158\\nKings Printer for Ontario Copyright 2024 This document must not be copied or reproduced in any manner without the\\nwritten permission of the Ontario Infrastructure and Lands Corporation.'),\n",
       "  Document(metadata={'doc_name': 'ol-elevated-guideway-and-stations-dmca-redacted-version', 'page': 308}, page_content='the Effective Date, subject to and in accordance with the provisions of this Assignment of\\nSubcontract.\\nIn the event the Agreement is terminated pursuant to Sections 33.6 (Automatic Expiry on Expiry\\nDate) or 32.2(a)(ii) (Project Cos Options) of the Agreement, this Assignment of Subcontract shall\\nbe terminated and of no further force and effect from and after the date on which the Agreement\\nexpires.\\nUnless and until notification is given to the DMCA Subcontractor in accordance with any of the\\nnotices referred to in Section 6(v), 6(vi), or 6(vii), the Head DMCA Subcontractor shall be entitled\\nto enforce all of the benefits and powers under the DMCA Subcontract and to deal with, and be\\nConfidential Page 2\\nKings Printer for Ontario Copyright 2024 This document must not be copied or reproduced in any manner without the\\nwritten permission of the Ontario Infrastructure and Lands Corporation.'),\n",
       "  Document(metadata={'doc_name': 'ol-elevated-guideway-and-stations-dmca-redacted-version', 'page': 17}, page_content='Ontario Line Elevated Guideway and Stations Development and Master Construction Agreement\\nRedacted Version\\n(b) Project Co shall exercise its rights and perform its obligations without recourse to Contracting\\nAuthority, except as otherwise provided in this Agreement and the Target Price Agreement then in\\neffect.\\n3.2 Project Term\\n(a) The term of this Agreement shall be the period of time from the DMCA Effective Date and\\nending on the expiry of the later of (i) the TPA Warranty Period applicable to the TPA Works\\nwhich is the latest to reach TPA Substantial Completion, (ii) the DMCA Warranty Period\\napplicable to the DMCA Construction Works which is the latest to reach DMCA Construction\\nWorks Substantial Completion; and (iii) in respect of New City Infrastructure and New TTC\\nInfrastructure, the DMCA Warranty Period or the TPA Warranty Period applicable to the\\nConstruction Works which is the latest to reach Handover, unless terminated earlier in accordance\\nwith the terms of this Agreement (the Project Term).\\n3.3 Parties to Collaborate and Cooperate\\n(a) The Parties agree to:\\n(i) at all times act cooperatively, reasonably and in good faith in the performance of their\\nrespective obligations and the exercise of their respective rights under this Agreement and\\nto establish and maintain a collaborative culture, provided that the foregoing shall not limit\\nany right of a Party where in this Agreement it is set out that a Party may exercise any of\\nits rights in its sole discretion;\\n(ii) develop and agree to the Development Works Charter in accordance with Schedule 19 \\nGovernance, Meetings and Progress Reporting; and\\n(iii) at all times, with respect to the performance of the Works and this Agreement, act in\\naccordance with the following principles, whereby the Parties shall:\\n(A) establish and maintain a collaborative culture and act, at all times, in a manner that\\nis consistent with a Best for Project approach;\\n(B) promote a win together, lose together approach to the Project;\\n(C) be empowered with accountability for decisions each Party makes during the\\nProject Term;\\n(D) follow safety first and always principles;\\n(E) promote and maintain a one team approach;\\n(F) operate and cause their advisors to operate on a principle of full transparency and\\nmaintain a commitment to an open book approach. With respect to Project Co,\\nProject Co shall cause the Subcontractors to operate on such principle and maintain\\nsuch commitment;\\n(G) seek to create exceptional value for Contracting Authority and the Project and\\nmutual benefits for the Parties;\\nConfidential Page 18\\nKings Printer for Ontario Copyright 2024 This document must not be copied or reproduced in any manner without the\\nwritten permission of the Ontario Infrastructure and Lands Corporation.'),\n",
       "  Document(metadata={'doc_name': 'ol-elevated-guideway-and-stations-dmca-redacted-version', 'page': 61}, page_content='Representative of testing entities, nor any other thing in this Agreement shall have the effect of\\nlimiting or shortening or otherwise affecting in any way whatsoever the duration, effectiveness or\\ncontent of any guarantee or warranty set forth in any other document or material forming part of\\nthis Agreement.\\nWarranty Security\\nNot less than 90 days prior to each then-current TPA Scheduled Substantial Completion Date or\\nrelevant DMCA Construction Works Scheduled Substantial Completion Date, as applicable,\\nConfidential Page 62\\nKings Printer for Ontario Copyright 2024 This document must not be copied or reproduced in any manner without the\\nwritten permission of the Ontario Infrastructure and Lands Corporation.')]}"
      ]
     },
     "execution_count": 19,
     "metadata": {},
     "output_type": "execute_result"
    }
   ],
   "source": [
    "answer"
   ]
  },
  {
   "cell_type": "code",
   "execution_count": 20,
   "metadata": {},
   "outputs": [
    {
     "name": "stdout",
     "output_type": "stream",
     "text": [
      "Openai answer:  The agreement is entered into on the DMCA Effective Date.\n"
     ]
    }
   ],
   "source": [
    "print('Openai answer: ', answer['result'])"
   ]
  },
  {
   "cell_type": "markdown",
   "metadata": {},
   "source": [
    "ran in terminal: `vllm serve neuralmagic/Llama-2-7b-chat-quantized.w8a8 --chat-template templates/template_chatml.jinja`"
   ]
  },
  {
   "cell_type": "code",
   "execution_count": 27,
   "metadata": {},
   "outputs": [],
   "source": [
    "inference_server_url = \"http://localhost:8000/v1\"\n",
    "\n",
    "# MODEL = \"facebook/opt-125m\"\n",
    "# MODEL = \"neuralmagic/Llama-2-7b-chat-quantized.w8a8\"\n",
    "MODEL = \"neuralmagic/Meta-Llama-3.1-8B-Instruct-quantized.w8a8\"\n",
    "    \n",
    "llm = ChatOpenAI(\n",
    "    model=MODEL,\n",
    "    openai_api_key=\"EMPTY\",\n",
    "    openai_api_base=inference_server_url,\n",
    "    max_tokens=100,\n",
    "    temperature=0,\n",
    ")"
   ]
  },
  {
   "cell_type": "code",
   "execution_count": 28,
   "metadata": {},
   "outputs": [],
   "source": [
    "def qa_retriever_llama(query, vector_db_path, file_id, k=4):\n",
    "    embeddings = OpenAIEmbeddings(model=EMBEDDING_MODEL, openai_api_key=openai_api_key)\n",
    "    vectordb = Chroma(persist_directory=vector_db_path, embedding_function=embeddings)\n",
    "\n",
    "    retriever = vectordb.as_retriever(search_kwargs={\"k\": k, \"filter\": {\"doc_name\": file_id}})\n",
    "\n",
    "    qa = RetrievalQA.from_chain_type(llm=llm, chain_type=\"stuff\", \n",
    "                                    retriever=retriever, return_source_documents=True)\n",
    "    res = qa({\"query\": query})\n",
    "    return res, retriever"
   ]
  },
  {
   "cell_type": "code",
   "execution_count": 36,
   "metadata": {},
   "outputs": [
    {
     "name": "stdout",
     "output_type": "stream",
     "text": [
      "CPU times: user 72.6 ms, sys: 11.5 ms, total: 84.1 ms\n",
      "Wall time: 2.65 s\n"
     ]
    }
   ],
   "source": [
    "%%time\n",
    "question = \"Who are the parties?\"\n",
    "question = \"When is this agreement entered into?\"\n",
    "\n",
    "answer_llama, retriever = qa_retriever_llama(question, vector_db_path=\"/home/ubuntu/yulia/vllm-exploratory/llm/xplore/chroma_db\", file_id=file_name, k=4)"
   ]
  },
  {
   "cell_type": "code",
   "execution_count": 37,
   "metadata": {},
   "outputs": [
    {
     "name": "stdout",
     "output_type": "stream",
     "text": [
      "{'query': 'When is this agreement entered into?', 'result': \"I don't know the date when this agreement was entered into. The text provided does not specify the date of the agreement.\", 'source_documents': [Document(metadata={'doc_name': 'ol-elevated-guideway-and-stations-dmca-redacted-version', 'page': 196}, page_content='Ontario Line Elevated Guideway and Stations Development and Master Construction Agreement\\nRedacted Version\\n49.11\\n49.12\\n49.13\\n49.14\\n49.15\\n49.16\\nCumulative Remedies\\nExcept as otherwise set forth in this Agreement or any Target Price Agreement then in effect, the\\nrights, powers and remedies of each Party set forth in this Agreement and any Target Price\\nAgreement then in effect are cumulative and are in addition to and without prejudice to any other\\nright, power or remedy that may be available to such Party under this Agreement or any Target\\nPrice Agreement then in effect.\\nFurther Assurance\\nEach Party shall do all things, from time to time, and execute all further documents necessary to\\ngive full effect to this Agreement and any Target Price Agreement then in effect.\\nCosts\\nEach Party shall be responsible for paying its own costs and expenses incurred in connection with\\nthe negotiation, preparation and execution and delivery of this Agreement.\\nLanguage of Agreement\\nEach of the Parties acknowledges having requested and being satisfied that this Agreement, any\\nTarget Price Agreement then in effect and related documents be drawn in English. Chacune des\\nparties reconnait avoir demand que ce document et ses annexes soient rdigs en anglais et sen\\ndclare satisfaite.\\nFor greater certainty, all correspondence, Notices, drawings, test reports, certificates,\\nspecifications, information, operation and maintenance instructions, name plates, identification\\nlabels, instructions and notices to the public and staff and all other written, printed or electronically\\nreadable matter required in accordance with, or for purposes envisaged by, this Agreement or any\\nTarget Price Agreement then in effect shall be in English.\\nProof of Authority\\nContracting Authority and Project Co each reserve the right to require any person executing this\\nAgreement or any Target Price Agreement then in effect on behalf of the other Party to provide\\nproof, in a form acceptable to Contracting Authority or Project Co, as applicable, that they have\\nthe requisite authority to execute this Agreement or any Target Price Agreement then in effect on\\nbehalf of and to bind Contracting Authority or Project Co, as applicable.\\nCounterparts\\nThis Agreement and any Target Price Agreement then in effect may be executed in one or more\\ncounterparts. Any single counterpart or a set of counterparts executed, in either case, by all of the\\nParties shall constitute a full, original and binding agreement for all purposes. Delivery of an\\nexecuted counterpart by sending a copy by electronic mail or other electronic transmission shall be\\nas effective as the manual delivery of an executed counterpart.\\nConfidential Page 197\\nKings Printer for Ontario Copyright 2024 This document must not be copied or reproduced in any manner without the\\nwritten permission of the Ontario Infrastructure and Lands Corporation.'), Document(metadata={'doc_name': 'ol-elevated-guideway-and-stations-dmca-redacted-version', 'page': 27}, page_content='Ontario Line Elevated Guideway and Stations Development and Master Construction Agreement\\nRedacted Version\\n(vi)\\n(vii)\\n(viii)\\n(ix)\\nthis Agreement has been duly authorized, executed, and delivered by Project Co and\\nconstitutes a legal, valid, and binding obligation of Project Co, enforceable against Project\\nCo in accordance with its terms, subject only to:\\n(A) limitations with respect to the enforcement of remedies by bankruptcy, insolvency,\\nmoratorium, winding-up, arrangement, reorganization, fraudulent preference and\\nconveyance and other laws of general application affecting the enforcement of\\ncreditors rights generally; and\\n(B) general equitable principles and the fact that the availability of equitable remedies\\nis in the discretion of a court and that a court may stay proceedings or the execution\\nof judgments;\\nthe execution, delivery, and performance by Project Co of this Agreement does not and\\nwill not violate or conflict with, or constitute a default under:\\n(A) its constating, formation or organizational documents, including any by-laws;\\n(B) any Applicable Law; or\\n(C) any covenant, contract, agreement, or understanding to which it is a party or by\\nwhich it or any of its properties or assets is bound or affected;\\nno Project Co Event of Default has occurred and is continuing;\\nall of the information regarding Project Co set out in Schedule 31 Project Co Information\\nis true and correct in all material respects;\\nthere are no actions, suits, proceedings, or investigations pending or threatened against\\nProject Co or, to Project Cos knowledge, any Project Co Party at law or in equity before\\nany Governmental Authority or arbitral body (whether or not covered by insurance) that\\nindividually or in the aggregate could result in any material adverse effect on the business,\\nproperties, or assets, or the condition, financial or otherwise, of Project Co or in any\\nimpairment of its ability to perform its obligations under this Agreement, and Project Co\\nhas no knowledge of any violation or default with respect to any order, writ, injunction, or\\ndecree of any Governmental Authority or arbitral body that could result in any such\\nmaterial adverse effect or impairment;\\nProject Co has:\\n(A) reviewed the Background Information available as of the DMCA Effective\\nDate as required in Section 7.1;\\n(B) carefully reviewed the whole of this Agreement, and all other documents\\nmade available to Project Co by or on behalf of Contracting Authority;\\n(C) reviewed and understood general conditions relating to the performance of\\nthe Development Works including the transportation, handling and storage\\nof materials and availability of labour and the character and availability of\\nConfidential\\nPage 28\\nKings Printer for Ontario Copyright 2024 This document must not be copied or reproduced in any manner without the\\nwritten permission of the Ontario Infrastructure and Lands Corporation.'), Document(metadata={'doc_name': 'ol-elevated-guideway-and-stations-dmca-redacted-version', 'page': 197}, page_content='Ontario Line Elevated Guideway and Stations Development and Master Construction Agreement\\nRedacted Version\\n49.17 Province Persons and Contracting Authority Parties as Third Party Beneficiaries\\n(a) All provisions of this Agreement and any Target Price Agreement then in effect expressed to be for\\nthe benefit of a Province Person or Contracting Authority Party, as applicable, are:\\n(i) intended for the benefit of each Province Person, or Contracting Authority Party, as\\napplicable, and, if so set out in the relevant Section, each Province Persons or Contracting\\nAuthority Partys, as applicable, directors, officers employees, board appointees, agents\\nand representatives, and shall be enforceable by each of such persons and his or her heirs,\\nexecutors, administrators and other legal representatives (collectively, in respect of each\\nProvince Person, the Province Person Third Party Beneficiaries, and in respect of each\\nContracting Authority Party, the Contracting Authority Third Party Beneficiaries);\\n(ii) are in addition to, and not in substitution for, any other rights that the Province Person\\nThird Party Beneficiaries may have in contract or otherwise.\\n(b) Contracting Authority shall hold the rights and benefits of each provision of this Agreement and\\nany Target Price Agreement then in effect which is to the benefit of each Province Person or\\nContracting Authority Party, as applicable, in trust for and on behalf of the Province Person Third\\nParty Beneficiaries or Contracting Authority Third Party Beneficiaries, as applicable, and\\nContracting Authority hereby accepts such trust and agrees to hold the benefit of and enforce\\nperformance of such covenants on behalf of the Province Person Third Party Beneficiaries or\\nContracting Authority Third Party Beneficiaries, as applicable.\\n49.18 Time is of the Essence\\n(a) Time is of the essence in this Agreement and any Target Price Agreement then in effect.\\n49.19 Copyright Notice\\n(a) The Parties acknowledge that the Kings Printer for Ontario is the exclusive owner of the copyright\\nin this Agreement and any Target Price Agreement then in effect.\\n[SIGNATURE PAGES IMMEDIATELY FOLLOW]\\nConfidential Page 198\\nKings Printer for Ontario Copyright 2024 This document must not be copied or reproduced in any manner without the\\nwritten permission of the Ontario Infrastructure and Lands Corporation.'), Document(metadata={'doc_name': 'ol-elevated-guideway-and-stations-dmca-redacted-version', 'page': 194}, page_content='Ontario Line Elevated Guideway and Stations Development and Master Construction Agreement\\nRedacted Version\\n49.4\\n49.5\\n49.6\\n49.7\\naccept any order, or enter into any contract or agreement, or make any representations or\\nwarranties of any kind to any person, or to assume or create any obligation, express or\\ndeemed, on behalf of or binding, or purportedly binding upon, the other Party;\\n(ii) neither Party shall be required to make or pay employment benefits, contributions for\\nEmployment Insurance, Canada Pension Plan, Workers Compensation Board or other\\nsimilar levies with respect to any persons employed or engaged by the other Party;\\n(iii) except as otherwise expressly provided in this Agreement or any Target Price Agreement\\nthen in effect, each Party shall be free from the control of the other Party as to the manner\\nin which it shall perform its obligations, or cause same to be performed, under this\\nAgreement and any Target Price Agreement then in effect; and\\n(iv) any person which a Party may engage as an agent, employee, subcontractor or otherwise,\\nto perform such Partys obligations under this Agreement or any Target Price Agreement\\nthen in effect, as permitted hereby, shall, unless the Parties otherwise agree in writing, be\\nengaged by such Party to act solely on behalf of such Party, and such person shall not act,\\nor be deemed to act, on behalf of the Party that did not engage its services.\\nGeneral Duty to Mitigate\\nContracting Authority and Project Co shall at all times take commercially reasonable steps to\\nminimize and mitigate any loss for which the relevant Party is entitled to bring a claim against the\\nother Party pursuant to this Agreement or any Target Price Agreement then in effect.\\nActual Knowledge\\nExcept where limited to actual knowledge and/or such knowledge which they, at law, may from\\ntime to time, be deemed to have, Project Co and Contracting Authority shall, for all purposes of\\nthis Agreement and any Target Price Agreement then in effect, be deemed to have such knowledge\\nin respect of the Project as is actually held (or ought reasonably to be held) by their respective\\ndirectors, officers and senior management, or by the Contracting Authority Representative or the\\nProject Co Representative, as applicable. For clarity, except as expressly set out to the contrary, a\\nreference in this Agreement, or any Target Price Agreement then in effect, to the knowledge of\\nProject Co or of Contracting Authority shall be construed in a manner consistent with the foregoing\\nsentence.\\nEntire Agreement\\nExcept where provided otherwise in (i) this Agreement or (ii) any Target Price Agreement then in\\neffect, this Agreement and any Target Price Agreement then in effect constitute the entire\\nagreement between the Parties in connection with its subject matter and supersedes all prior\\nrepresentations, communications, negotiations and understandings, whether oral, written, express\\nor implied, concerning the subject matter of this Agreement and any Target Price Agreement then\\nin effect.\\nNo Reliance\\nEach of the Parties acknowledge that:\\nConfidential Page 195\\nKings Printer for Ontario Copyright 2024 This document must not be copied or reproduced in any manner without the\\nwritten permission of the Ontario Infrastructure and Lands Corporation.')]}\n",
      "I don't know the date when this agreement was entered into. The text provided does not specify the date of the agreement.\n"
     ]
    }
   ],
   "source": [
    "print(answer_llama)\n",
    "print(answer_llama['result'])"
   ]
  },
  {
   "cell_type": "code",
   "execution_count": 61,
   "metadata": {},
   "outputs": [
    {
     "name": "stdout",
     "output_type": "stream",
     "text": [
      "10 04 21\n",
      "O Constant Intermittent headaches\n",
      "Dffontal area.\n",
      "CiNervousness 1] Anxiety Fears Ci Irritability 0 Tense\n",
      "kw PREVIOUS MEDIC, GICAL HISTORY\n",
      "Negative ODMOHTNOCAD Q0AC Other\n",
      "Patient states he OI she D ha id not have a MVA in the past.\n",
      "Patient Cdenies [7 admits iohave an indwelling metal in body. +\n",
      "Pregnant: C] Yes NoZIN/A = LMP:_/_/ .\n",
      ". : HAMILY sD SOCIAL MISTORY :\n",
      "ONoncontributory Smoking: Hes (No Aleohel: Ges No\n",
      "other: :\n",
      ", MIEDICATION:\n",
      "EON Medication OTylenol uuprofen\n",
      "i Othe: - - .\n",
      "ALLERGIES:\n",
      "! fo Allergies DAllergic to.\n",
      "TLYSICAL EXAMINATION REVEALID\n",
      "BP__/__ Pulse BPM GtReguler 0 Irregular RR,\n",
      "PAfebrile O Febrile\n",
      ". SICAL UXAM\n",
      ". G P|\n",
      "C.walf-developed and well nourished2O year old M1 OE.AAOX, normocephelie, no\n",
      "neck masses, no bruits, ear canals are clear, no oropharyngeal erythema, Heart with\n",
      "normal $2 regular sounds. Lungs are clear to auscultation bilaterally, J Abdomen with\n",
      "good bowel sounds without guarding, rigidity or rebound, no clubbing or cyanosis\n",
      "noticed on the extremities, [I Pulses present bilaterally are present. LINo gross\n",
      "deformities or focal deficits are noticed.\n",
      "--\n",
      "10 04 21\n",
      "Date: Gh j poh INITIAL, EXAMINATION REPORT Ds Out: ee) al\n",
      "- ASA Resta. OF THE IMPACT THE PATIENT SUSTAINED INIURIES TO;\n",
      "et DB tbow + Ofoot {/RT GIT\n",
      "; cic Spine Wrist} RT HLT. , Tbbdomen G RT YLT\n",
      "FAR ROCKAWAY MEDICAL PC\n",
      "4014A Beston Rd, Bronx, er vivo\n",
      "LY OF P! r ONIONS\n",
      "Or. OMs: JA 2 year old Op, vito was\n",
      "involved in an accifient; the details of the accident sa discussed with the patient. _\n",
      "it stale of\n",
      "According to the information presented by Oshe was in a reg\n",
      "good and was capable of living ef an eal basis with others of @his Cher age,\n",
      "before a, involved in a Efhotor vehicle Cslip and fall Owork. ident,\n",
      "wh is Cher symptoms The patient was the Cdrivr enger of the\n",
      "-Cbacke st ofthe vehicle Gefith Llwithout the seat belt Lpedes sae\n",
      "Due to accident [gk Cishe {has Dhas not been able to work as ot aed en Upp Of\n",
      "Tend, . Oiseorit Area Oi 4} RT LT.\n",
      "OF; : . Pelvis + Tne {F REG LT\n",
      "feck . Oshoulder {VRT-QUT Anke R.RTQLT\n",
      "erBack Olen GRI{(LT UOther: _\n",
      "Dtint developed oO lecerstion Ciwound a bruise on, _\n",
      "Oatient reported C1 loss of consciousness for approximately. Joss of\n",
      "consciousness, .\n",
      "- OPatient was ated by emergency orew at the scene of, sei and far poche -\n",
      "not brovight to the emergency room ofthe aobens spi . oa |\n",
      "ambylance fiend went by himself Jherself on the Cisame day Chests .\n",
      "ate t dj here x-1 jot MPT. :\n",
      "lent was/was not evaluated jortfie emergency room where x- rag wesepvere Sp\n",
      "of fracture or dislocation were demonstrated.\n",
      "uation was completed,\n",
      "1g were placed on patients Clwound Llabrasions\n",
      "hospitalized for\n",
      "Obpiftary care physician treated patient. Porn We AS\n",
      "ationt was treated [Pfimself Cherself with analgesios with mild effect and LYACcided to\n",
      "start physical therapy.\n",
      "OUTCOME ASSEMENTREVEWED ATEENGTAW ITH PATIENT\n",
      "1\n",
      "--\n",
      "10 04 21\n",
      "_S. Lesconped~\n",
      "often nos Parmar ROM\n",
      "SHOULDERS\n",
      "Flexion/Elevation _ 180 Orrom YROM___\n",
      "Extension 50 GFrom (NROM__\n",
      "Abduction 180 OFrom (YROM___\n",
      "Adduetion 50 OFrom (HROM_\n",
      "Internal Rotation 90 OFrom (YROM__\n",
      "External Rotation 90 OFrom (HROM__\n",
      "O Crepitus appreciated on Light Filet subecromel /subdaltoid bursa.\n",
      "RIGHT LET\n",
      "(Able 0 unable to elevate and hold Chight Cleft arm ebove shoulder level\n",
      "Oenderness Dat orepitus at ac joint 1 at level of rotator cuff insetion Cigaments of sit\n",
      "muscles)\n",
      "ELBOWS | aguatRon _eatmewrs ROM RIGHT LUT\n",
      "* Hexion aoe orem TNROM__ .\n",
      "Extension io Prom CROM___ _\n",
      "Supination 20 OFrom CHROM__ ee\n",
      "Pronation 90 Derom (NROM___ _.\n",
      "(i Crepitus is appreciated Chight Dleft\n",
      "WRIST . Nommaratohi rats ROM RIGHT LEFT\n",
      "Flexion 160 OFrom CHROM__ __\n",
      "Extension 180 OFrom (NROM___. __\n",
      "Supination : 90 * DFrom CHROM__ _\n",
      "Pronation 90, OFrom CyRoM__ \n",
      "O Crepitus is appreciated Dright Dleft\n",
      "SIPS NO OM DPATIENTS ROM RIGHT LEFT\n",
      "Flexion SE En TROM__ _\n",
      "Extension 4s OFrom (YROM___ _ _\n",
      "Abduction 45 OFrom ENROM___ \n",
      "Adduction 30 Ofiom LNROM___ - \n",
      "Internal Rotation 40 Orrom (NROM_ we\n",
      "External Rotation 45 OFrom HROM__\n",
      "OCrepitus is appreciated ORTOLT\n",
      "--\n",
      "10 04 21\n",
      "BA B\n",
      "A treatment plan was proposed andl dis seri patient. Medical treatment for the\n",
      "pati msist of analgesics,\n",
      "VA Phe patient was advised to see a Chiropractor an Ye act ist, The patient was\n",
      "ed to attend physical therapy Srogram at a frequerley of, jes per week\n",
      "for the first four weeks, until next, until next evaluation, Physical therapy will consist of\n",
      "various modalities such as thermo therapy (Hot/Cold Pack), electrotherapy and electric\n",
      "stimulation, cervical trection manipulation therapy, assisted active and passive range of\n",
      "motion exeroises for injured areas. Additional treatment, protocol was outlined with the\n",
      "patient being instru yapecific ever exerojse additional therapeutic\n",
      "equipment such as O gad) g\n",
      "been prescribed for patients home use to support treatment. The patient agfeed to\n",
      "plan proposed as recommended.\n",
      "shes\n",
      "therapy\n",
      "CASUALTY\n",
      "On the basis of medical history presented by the patient and the physical examination\n",
      "findings, it is in my opinion to reasonable degree of medical certainty, that the condition\n",
      "described above is related to the above-mentioned incident.\n",
      "Patient will be re-evaluated in ay weeks.\n",
      "~-PROGNOSIS\n",
      "1 The possibility of this condition becoming permanent cannot be ruled out at this time\n",
      "because of the severity of the symptoms, the patient is somewhat limited in activities of\n",
      "daily living, as a result of the traumatic injury there were extreme of joint movement with\n",
      "i i saring of the mus ent strugtures\n",
      "bree\n",
      "of_/' beeed2 Lp Ppee. ex e\n",
      "it appears that these areas may be permanently weakened for an indefinite period of\n",
      "time resulting in significant and permanent restricted mobility.\n",
      "Fer Ahi 7 Regpectfilly Submitted,\n",
      "OCTORS NOTES AND C Ss\n"
     ]
    }
   ],
   "source": [
    "text = '\\n--\\n'.join([i.page_content for i in answer['source_documents']])\n",
    "print(text)"
   ]
  },
  {
   "cell_type": "code",
   "execution_count": 62,
   "metadata": {},
   "outputs": [],
   "source": [
    "from langchain_core.prompts.prompt import PromptTemplate"
   ]
  },
  {
   "cell_type": "code",
   "execution_count": 50,
   "metadata": {},
   "outputs": [],
   "source": [
    "llm = ChatOpenAI(\n",
    "    model=MODEL,\n",
    "    openai_api_key=\"EMPTY\",\n",
    "    openai_api_base=inference_server_url,\n",
    "    max_tokens=200,\n",
    "    temperature=0,\n",
    ")"
   ]
  },
  {
   "cell_type": "code",
   "execution_count": 70,
   "metadata": {},
   "outputs": [],
   "source": [
    "prompt = \"\"\"You are an AI assistant, use the following text to provide answer if you don't know, say you don't know\n",
    "        Context: {context}\n",
    "        Question: {question}\n",
    "        Be concise and short in your response.\n",
    "\"\"\"\n",
    "\n",
    "# context = text\n",
    "question = \"Who are the parties?\"\n",
    "# question = \"Where did the accident occur?\"\n",
    "# question = \"What is the date of the accident?\"\n",
    "# question = \"Was the denial of claim based on late notice to the carrier?\"\n",
    "# question = \"Who is the insurer?\"\n",
    "# question = \"What type of form is that?\"\n",
    "\n",
    "# file_name = 'FRM-AR117-22-1252-6330_2024_16400'\n",
    "\n",
    "vector_db_path = \"/home/ubuntu/yulia/vllm-exploratory/llm/xplore/chroma_db\"\n",
    "my_prompt = PromptTemplate(template=prompt, input_variables=[\"context\", \"question\"])\n",
    "embeddings = OpenAIEmbeddings(model=EMBEDDING_MODEL, openai_api_key=openai_api_key)\n",
    "vectordb = Chroma(persist_directory=vector_db_path, embedding_function=embeddings)\n",
    "retriever = vectordb.as_retriever(search_kwargs={\"k\": 4, \"filter\": {\"doc_name\": file_name}})"
   ]
  },
  {
   "cell_type": "code",
   "execution_count": 71,
   "metadata": {},
   "outputs": [],
   "source": [
    "qa = RetrievalQA.from_chain_type(llm=llm, \n",
    "                                chain_type=\"stuff\", \n",
    "                                retriever=retriever, \n",
    "                                return_source_documents=True,\n",
    "                                chain_type_kwargs={\"prompt\": my_prompt})"
   ]
  },
  {
   "cell_type": "code",
   "execution_count": 72,
   "metadata": {},
   "outputs": [
    {
     "name": "stdout",
     "output_type": "stream",
     "text": [
      "CPU times: user 21 ms, sys: 525 μs, total: 21.6 ms\n",
      "Wall time: 1.43 s\n"
     ]
    }
   ],
   "source": [
    "%%time\n",
    "llama_answer = qa.invoke(question)"
   ]
  },
  {
   "cell_type": "code",
   "execution_count": 73,
   "metadata": {},
   "outputs": [
    {
     "name": "stdout",
     "output_type": "stream",
     "text": [
      "{'query': 'Who are the parties?', 'result': \"tool.call('extract_party')\", 'source_documents': [Document(metadata={'doc_name': '17-22-1250-8464', 'page': 5}, page_content='10 04 21\\nKNEES pais BoM PATIENTS ROM RIGHT LEFT\\nFlexion 130 OFrom IUROM, . -\\nExtension 18 _ OFrom DNROM, . 2\\nOcCrepitus is appreciated Cright Oleft\\nC1Bulge/ Balloting sign of patella Dis Llis not present on Ciight Cleft\\nCiAnterior draws sign is Lipositive Dnegative on Lhright Deft\\nOLachmen test is positive Dhegative on Diright Met\\n Varus stress detecting mel is Lipositive Dnegative\\nOValgus stress test detecting LCL is Upositive Dnegative\\nANKLES NO} ROM PATIENTSROM RIGHT LEFT\\nDorsi Flexion 20 OFrom (HROM__\\nPlanter Extension 45. OFrom ROM ____\\nInversion 30 DFrom (NROM_____\\nEversion 20 UFromCWROM____\\nCicrepitus is appreciated ORight Let\\nUswelling/Edma is appreciated ORight [Left OMedial [Lateral Malleoli\\nCRANINAL NERVES EXAMINATION\\nDOlfaction is intact, Pupils are equal and reactive to light and accommodation\\nexrtaocular movements are intact and no nystagmus noted, Facial movement, smile\\nnasolabial fold are symmetric and facial sensation is intact. Jaw closure and opening\\nappears symmetric, tongue protrudes and midline, soft palate is elevated and uvula is\\nmidline. Hearing is preserved. Gag reflex is reserved, Swallowing is preserved.\\nStenocleidomastoid and trapezius muscles are strong bilaterally. No pronator drift\\nCOORDINATION EXAM:\\nONotmal finger-to-nose and heel-to-sheen exam. Follows rapid hand alteration\\nmovements well, both with closed eyes. Normal gait and heel-to-tandem, no ataxia and\\nno shuffling. Rombergs test is Negative OPositive'), Document(metadata={'doc_name': '17-22-1250-8464', 'page': 4}, page_content='10 04 21\\n_S. Lesconped~\\noften nos Parmar ROM\\nSHOULDERS\\nFlexion/Elevation _ 180 Orrom YROM___\\nExtension 50 GFrom (NROM__\\nAbduction 180 OFrom (YROM___\\nAdduetion 50 OFrom (HROM_\\nInternal Rotation 90 OFrom (YROM__\\nExternal Rotation 90 OFrom (HROM__\\nO Crepitus appreciated on Light Filet subecromel /subdaltoid bursa.\\nRIGHT LET\\n(Able 0 unable to elevate and hold Chight Cleft arm ebove shoulder level\\nOenderness Dat orepitus at ac joint 1 at level of rotator cuff insetion Cigaments of sit\\nmuscles)\\nELBOWS | aguatRon _eatmewrs ROM RIGHT LUT\\n* Hexion aoe orem TNROM__ .\\nExtension io Prom CROM___ _\\nSupination 20 OFrom CHROM__ ee\\nPronation 90 Derom (NROM___ _.\\n(i Crepitus is appreciated Chight Dleft\\nWRIST . Nommaratohi rats ROM RIGHT LEFT\\nFlexion 160 OFrom CHROM__ __\\nExtension 180 OFrom (NROM___. __\\nSupination : 90 * DFrom CHROM__ _\\nPronation 90, OFrom CyRoM__ \\nO Crepitus is appreciated Dright Dleft\\nSIPS NO OM DPATIENTS ROM RIGHT LEFT\\nFlexion SE En TROM__ _\\nExtension 4s OFrom (YROM___ _ _\\nAbduction 45 OFrom ENROM___ \\nAdduction 30 Ofiom LNROM___ - \\nInternal Rotation 40 Orrom (NROM_ we\\nExternal Rotation 45 OFrom HROM__\\nOCrepitus is appreciated ORTOLT'), Document(metadata={'doc_name': '17-22-1250-8464', 'page': 0}, page_content='10 04 21\\nDate: Gh j poh INITIAL, EXAMINATION REPORT Ds Out: ee) al\\n- ASA Resta. OF THE IMPACT THE PATIENT SUSTAINED INIURIES TO;\\net DB tbow + Ofoot {/RT GIT\\n; cic Spine Wrist} RT HLT. , Tbbdomen G RT YLT\\nFAR ROCKAWAY MEDICAL PC\\n4014A Beston Rd, Bronx, er vivo\\nLY OF P! r ONIONS\\nOr. OMs: JA 2 year old Op, vito was\\ninvolved in an accifient; the details of the accident sa discussed with the patient. _\\nit stale of\\nAccording to the information presented by Oshe was in a reg\\ngood and was capable of living ef an eal basis with others of @his Cher age,\\nbefore a, involved in a Efhotor vehicle Cslip and fall Owork. ident,\\nwh is Cher symptoms The patient was the Cdrivr enger of the\\n-Cbacke st ofthe vehicle Gefith Llwithout the seat belt Lpedes sae\\nDue to accident [gk Cishe {has Dhas not been able to work as ot aed en Upp Of\\nTend, . Oiseorit Area Oi 4} RT LT.\\nOF; : . Pelvis + Tne {F REG LT\\nfeck . Oshoulder {VRT-QUT Anke R.RTQLT\\nerBack Olen GRI{(LT UOther: _\\nDtint developed oO lecerstion Ciwound a bruise on, _\\nOatient reported C1 loss of consciousness for approximately. Joss of\\nconsciousness, .\\n- OPatient was ated by emergency orew at the scene of, sei and far poche -\\nnot brovight to the emergency room ofthe aobens spi . oa |\\nambylance fiend went by himself Jherself on the Cisame day Chests .\\nate t dj here x-1 jot MPT. :\\nlent was/was not evaluated jortfie emergency room where x- rag wesepvere Sp\\nof fracture or dislocation were demonstrated.\\nuation was completed,\\n1g were placed on patients Clwound Llabrasions\\nhospitalized for\\nObpiftary care physician treated patient. Porn We AS\\nationt was treated [Pfimself Cherself with analgesios with mild effect and LYACcided to\\nstart physical therapy.\\nOUTCOME ASSEMENTREVEWED ATEENGTAW ITH PATIENT\\n1'), Document(metadata={'doc_name': '17-22-1250-8464', 'page': 3}, page_content='10 04 21\\nTHORACIC SPINE:\\nOthe appesrs to be tendemess of the thoracic spine at the TY -T/Dswith spasms of\\night Clleft paraspinal structures.\\nO There is no tenderness or pain on palpation.\\n . _ LUMBOSACRAL SPINE:\\nO Palpation of Jumbar sacral spineET reveals CI does not reveal [] mild Mmoderate-\\nCrsevere ten attheLf LSS / level.\\nOD Increase in fafight paravertebral muscletone, R >\\nNormal examination of the lumbar sacral spine.\\nSPECIAL TEST AND SIGNS:\\nDNegative\\nSpinal Percussion Test DPositive\\nFaber-Patrick Test Positive ho A ONegati\\nStraight Leg Raise Test OPositive @1/ onthe RT,@./ on the LT prdaive \\nNORMAL ROM Papeents ROM PAIN\\nym (NROM___ Ceostive .\\nFlexion. 90\\nExtension 30 Ofrom OVROM, ( ositive\\nRight Rotation 30 OFrom NROM 20 sitive\\nLeft Rotation 30 OFrom ROM 30. EP ositive\\nRight Lateral Flexion 35 OFrom Rom 22 ORsitive\\n. Left Lateral Flexion. 35. OFrom OUROM BYE) festive\\nCaEST:\\nCi Pain and tendemess in sternum area and ribs with without deep breathing or\\ncoughing, 0) with D without palpation.\\nINo tenderness on palpation, no gross deformity.\\nEXTREMITIES:\\nExamination of the extremities reveals tendemess over the _\\nand crepitus is noticed upon manipulation of the area.\\nC Active and passive movements are restricted and painful on palpation of\\nthe,\\nOthere is edema of D right Dieft Cimedial Diateral\\nis no apparent swelling or discoloration.\\nAll areas of the peripheral pulses are palpated and normal limits.\\nO Other.')]}\n",
      "tool.call('extract_party')\n"
     ]
    }
   ],
   "source": [
    "print(llama_answer)\n",
    "print(llama_answer['result'])"
   ]
  },
  {
   "cell_type": "code",
   "execution_count": 67,
   "metadata": {},
   "outputs": [],
   "source": [
    "my_prompt = PromptTemplate(template=prompt, input_variables=[\"context\", \"question\"])\n",
    "embeddings = OpenAIEmbeddings(model=EMBEDDING_MODEL, openai_api_key=openai_api_key)\n",
    "vectordb = Chroma(persist_directory=vector_db_path, embedding_function=embeddings)\n",
    "retriever = vectordb.as_retriever(search_kwargs={\"k\": 4, \"filter\": {\"doc_name\": file_name}})\n",
    "qa = RetrievalQA.from_chain_type(llm=get_gpt_llm(), \n",
    "                                chain_type=\"stuff\", \n",
    "                                retriever=retriever, \n",
    "                                return_source_documents=True,\n",
    "                                chain_type_kwargs={\"prompt\": my_prompt})"
   ]
  },
  {
   "cell_type": "code",
   "execution_count": 68,
   "metadata": {},
   "outputs": [
    {
     "name": "stdout",
     "output_type": "stream",
     "text": [
      "CPU times: user 24.2 ms, sys: 440 μs, total: 24.6 ms\n",
      "Wall time: 1.14 s\n"
     ]
    }
   ],
   "source": [
    "%%time\n",
    "openai_answer = qa.invoke(question)"
   ]
  },
  {
   "cell_type": "code",
   "execution_count": 69,
   "metadata": {},
   "outputs": [
    {
     "name": "stdout",
     "output_type": "stream",
     "text": [
      "{'query': 'Who are the parties?', 'result': 'The parties involved are the patient, the healthcare provider, and possibly emergency medical personnel.', 'source_documents': [Document(metadata={'doc_name': '17-22-1250-8464', 'page': 5}, page_content='10 04 21\\nKNEES pais BoM PATIENTS ROM RIGHT LEFT\\nFlexion 130 OFrom IUROM, . -\\nExtension 18 _ OFrom DNROM, . 2\\nOcCrepitus is appreciated Cright Oleft\\nC1Bulge/ Balloting sign of patella Dis Llis not present on Ciight Cleft\\nCiAnterior draws sign is Lipositive Dnegative on Lhright Deft\\nOLachmen test is positive Dhegative on Diright Met\\n Varus stress detecting mel is Lipositive Dnegative\\nOValgus stress test detecting LCL is Upositive Dnegative\\nANKLES NO} ROM PATIENTSROM RIGHT LEFT\\nDorsi Flexion 20 OFrom (HROM__\\nPlanter Extension 45. OFrom ROM ____\\nInversion 30 DFrom (NROM_____\\nEversion 20 UFromCWROM____\\nCicrepitus is appreciated ORight Let\\nUswelling/Edma is appreciated ORight [Left OMedial [Lateral Malleoli\\nCRANINAL NERVES EXAMINATION\\nDOlfaction is intact, Pupils are equal and reactive to light and accommodation\\nexrtaocular movements are intact and no nystagmus noted, Facial movement, smile\\nnasolabial fold are symmetric and facial sensation is intact. Jaw closure and opening\\nappears symmetric, tongue protrudes and midline, soft palate is elevated and uvula is\\nmidline. Hearing is preserved. Gag reflex is reserved, Swallowing is preserved.\\nStenocleidomastoid and trapezius muscles are strong bilaterally. No pronator drift\\nCOORDINATION EXAM:\\nONotmal finger-to-nose and heel-to-sheen exam. Follows rapid hand alteration\\nmovements well, both with closed eyes. Normal gait and heel-to-tandem, no ataxia and\\nno shuffling. Rombergs test is Negative OPositive'), Document(metadata={'doc_name': '17-22-1250-8464', 'page': 4}, page_content='10 04 21\\n_S. Lesconped~\\noften nos Parmar ROM\\nSHOULDERS\\nFlexion/Elevation _ 180 Orrom YROM___\\nExtension 50 GFrom (NROM__\\nAbduction 180 OFrom (YROM___\\nAdduetion 50 OFrom (HROM_\\nInternal Rotation 90 OFrom (YROM__\\nExternal Rotation 90 OFrom (HROM__\\nO Crepitus appreciated on Light Filet subecromel /subdaltoid bursa.\\nRIGHT LET\\n(Able 0 unable to elevate and hold Chight Cleft arm ebove shoulder level\\nOenderness Dat orepitus at ac joint 1 at level of rotator cuff insetion Cigaments of sit\\nmuscles)\\nELBOWS | aguatRon _eatmewrs ROM RIGHT LUT\\n* Hexion aoe orem TNROM__ .\\nExtension io Prom CROM___ _\\nSupination 20 OFrom CHROM__ ee\\nPronation 90 Derom (NROM___ _.\\n(i Crepitus is appreciated Chight Dleft\\nWRIST . Nommaratohi rats ROM RIGHT LEFT\\nFlexion 160 OFrom CHROM__ __\\nExtension 180 OFrom (NROM___. __\\nSupination : 90 * DFrom CHROM__ _\\nPronation 90, OFrom CyRoM__ \\nO Crepitus is appreciated Dright Dleft\\nSIPS NO OM DPATIENTS ROM RIGHT LEFT\\nFlexion SE En TROM__ _\\nExtension 4s OFrom (YROM___ _ _\\nAbduction 45 OFrom ENROM___ \\nAdduction 30 Ofiom LNROM___ - \\nInternal Rotation 40 Orrom (NROM_ we\\nExternal Rotation 45 OFrom HROM__\\nOCrepitus is appreciated ORTOLT'), Document(metadata={'doc_name': '17-22-1250-8464', 'page': 0}, page_content='10 04 21\\nDate: Gh j poh INITIAL, EXAMINATION REPORT Ds Out: ee) al\\n- ASA Resta. OF THE IMPACT THE PATIENT SUSTAINED INIURIES TO;\\net DB tbow + Ofoot {/RT GIT\\n; cic Spine Wrist} RT HLT. , Tbbdomen G RT YLT\\nFAR ROCKAWAY MEDICAL PC\\n4014A Beston Rd, Bronx, er vivo\\nLY OF P! r ONIONS\\nOr. OMs: JA 2 year old Op, vito was\\ninvolved in an accifient; the details of the accident sa discussed with the patient. _\\nit stale of\\nAccording to the information presented by Oshe was in a reg\\ngood and was capable of living ef an eal basis with others of @his Cher age,\\nbefore a, involved in a Efhotor vehicle Cslip and fall Owork. ident,\\nwh is Cher symptoms The patient was the Cdrivr enger of the\\n-Cbacke st ofthe vehicle Gefith Llwithout the seat belt Lpedes sae\\nDue to accident [gk Cishe {has Dhas not been able to work as ot aed en Upp Of\\nTend, . Oiseorit Area Oi 4} RT LT.\\nOF; : . Pelvis + Tne {F REG LT\\nfeck . Oshoulder {VRT-QUT Anke R.RTQLT\\nerBack Olen GRI{(LT UOther: _\\nDtint developed oO lecerstion Ciwound a bruise on, _\\nOatient reported C1 loss of consciousness for approximately. Joss of\\nconsciousness, .\\n- OPatient was ated by emergency orew at the scene of, sei and far poche -\\nnot brovight to the emergency room ofthe aobens spi . oa |\\nambylance fiend went by himself Jherself on the Cisame day Chests .\\nate t dj here x-1 jot MPT. :\\nlent was/was not evaluated jortfie emergency room where x- rag wesepvere Sp\\nof fracture or dislocation were demonstrated.\\nuation was completed,\\n1g were placed on patients Clwound Llabrasions\\nhospitalized for\\nObpiftary care physician treated patient. Porn We AS\\nationt was treated [Pfimself Cherself with analgesios with mild effect and LYACcided to\\nstart physical therapy.\\nOUTCOME ASSEMENTREVEWED ATEENGTAW ITH PATIENT\\n1'), Document(metadata={'doc_name': '17-22-1250-8464', 'page': 3}, page_content='10 04 21\\nTHORACIC SPINE:\\nOthe appesrs to be tendemess of the thoracic spine at the TY -T/Dswith spasms of\\night Clleft paraspinal structures.\\nO There is no tenderness or pain on palpation.\\n . _ LUMBOSACRAL SPINE:\\nO Palpation of Jumbar sacral spineET reveals CI does not reveal [] mild Mmoderate-\\nCrsevere ten attheLf LSS / level.\\nOD Increase in fafight paravertebral muscletone, R >\\nNormal examination of the lumbar sacral spine.\\nSPECIAL TEST AND SIGNS:\\nDNegative\\nSpinal Percussion Test DPositive\\nFaber-Patrick Test Positive ho A ONegati\\nStraight Leg Raise Test OPositive @1/ onthe RT,@./ on the LT prdaive \\nNORMAL ROM Papeents ROM PAIN\\nym (NROM___ Ceostive .\\nFlexion. 90\\nExtension 30 Ofrom OVROM, ( ositive\\nRight Rotation 30 OFrom NROM 20 sitive\\nLeft Rotation 30 OFrom ROM 30. EP ositive\\nRight Lateral Flexion 35 OFrom Rom 22 ORsitive\\n. Left Lateral Flexion. 35. OFrom OUROM BYE) festive\\nCaEST:\\nCi Pain and tendemess in sternum area and ribs with without deep breathing or\\ncoughing, 0) with D without palpation.\\nINo tenderness on palpation, no gross deformity.\\nEXTREMITIES:\\nExamination of the extremities reveals tendemess over the _\\nand crepitus is noticed upon manipulation of the area.\\nC Active and passive movements are restricted and painful on palpation of\\nthe,\\nOthere is edema of D right Dieft Cimedial Diateral\\nis no apparent swelling or discoloration.\\nAll areas of the peripheral pulses are palpated and normal limits.\\nO Other.')]}\n",
      "The parties involved are the patient, the healthcare provider, and possibly emergency medical personnel.\n"
     ]
    }
   ],
   "source": [
    "print(openai_answer)\n",
    "print(openai_answer['result'])"
   ]
  },
  {
   "cell_type": "code",
   "execution_count": null,
   "metadata": {},
   "outputs": [],
   "source": [
    "db._collection.get(include=[\"metadatas\",\"documents\"])"
   ]
  },
  {
   "cell_type": "code",
   "execution_count": 133,
   "metadata": {},
   "outputs": [],
   "source": [
    "import torch\n",
    "torch.cuda.empty_cache()"
   ]
  },
  {
   "cell_type": "markdown",
   "metadata": {},
   "source": [
    "--------"
   ]
  },
  {
   "cell_type": "code",
   "execution_count": null,
   "metadata": {},
   "outputs": [],
   "source": [
    "from vllm import LLM, SamplingParams\n",
    "from transformers import AutoTokenizer\n",
    "\n",
    "model_id = \"neuralmagic/Meta-Llama-3.1-8B-Instruct-quantized.w8a8\"\n",
    "number_gpus = 1\n",
    "max_model_len = 8192\n",
    "\n",
    "sampling_params = SamplingParams(temperature=0.6, top_p=0.9, max_tokens=256)\n",
    "\n",
    "tokenizer = AutoTokenizer.from_pretrained(model_id)\n",
    "\n",
    "llm = LLM(model=model_id, tensor_parallel_size=number_gpus, max_model_len=max_model_len, dtype=torch.float16)"
   ]
  },
  {
   "cell_type": "code",
   "execution_count": 49,
   "metadata": {},
   "outputs": [
    {
     "name": "stderr",
     "output_type": "stream",
     "text": [
      "Processed prompts:   0%|          | 0/1 [00:00<?, ?it/s, est. speed input: 0.00 toks/s, output: 0.00 toks/s]"
     ]
    },
    {
     "name": "stderr",
     "output_type": "stream",
     "text": [
      "Processed prompts: 100%|██████████| 1/1 [00:11<00:00, 11.80s/it, est. speed input: 4.75 toks/s, output: 20.85 toks/s]"
     ]
    },
    {
     "name": "stdout",
     "output_type": "stream",
     "text": [
      "Arrr, listen close to me rhyme,\n",
      "\n",
      "O' the waterlilies, a wondrous sight,\n",
      "Growin' on the surface, shinin' bright.\n",
      "Their petals like silk, a gentle hue,\n",
      "A treasure to behold, for me and you.\n",
      "\n",
      "Their stems so slender, their leaves so grand,\n",
      "A haven for fish, in this watery land.\n",
      "The sun shines down upon 'em, and they thrive,\n",
      "A pirate's delight, where the waters survive.\n",
      "\n",
      "Their beauty is a sight, to make ye smile,\n",
      "A treasure to see, in this pirate's isle.\n",
      "So let's raise our cups, and give a hearty cheer,\n",
      "For the waterlilies, that grow so clear.\n",
      "\n",
      "So hoist the sails, me hearties, and set sail,\n",
      "For the waters of wonder, where these flowers prevail.\n",
      "And when ye find yerself, in this watery nest,\n",
      "Just remember the waterlilies, and take a pirate's rest.\n",
      "\n",
      "Yer matey, I hope ye enjoyed me poem,\n",
      "About the waterlilies, in this pirate's gloam.\n",
      "So keep yer wits about ye, and yer spirits high,\n",
      "And remember the waterlilies, as ye sail by!\n"
     ]
    },
    {
     "name": "stderr",
     "output_type": "stream",
     "text": [
      "\n"
     ]
    }
   ],
   "source": [
    "messages = [\n",
    "    {\"role\": \"system\", \"content\": \"You are a pirate chatbot who always responds in pirate speak!\"},\n",
    "    {\"role\": \"user\", \"content\": \"write a poem about waterlilies\"},\n",
    "]\n",
    "\n",
    "prompts = tokenizer.apply_chat_template(messages, add_generation_prompt=True, tokenize=False)\n",
    "outputs = llm.generate(prompts, sampling_params)\n",
    "\n",
    "generated_text = outputs[0].outputs[0].text\n",
    "print(generated_text)"
   ]
  }
 ],
 "metadata": {
  "kernelspec": {
   "display_name": "Python 3",
   "language": "python",
   "name": "python3"
  },
  "language_info": {
   "codemirror_mode": {
    "name": "ipython",
    "version": 3
   },
   "file_extension": ".py",
   "mimetype": "text/x-python",
   "name": "python",
   "nbconvert_exporter": "python",
   "pygments_lexer": "ipython3",
   "version": "3.10.14"
  }
 },
 "nbformat": 4,
 "nbformat_minor": 2
}
